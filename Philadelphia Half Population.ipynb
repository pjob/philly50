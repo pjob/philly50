{
 "cells": [
  {
   "cell_type": "markdown",
   "metadata": {},
   "source": [
    "2010 Census Resources\n",
    "\n",
    "http://factfinder.census.gov/faces/tableservices/jsf/pages/productview.xhtml?src=CF\n",
    "\n",
    "https://www.opendataphilly.org/dataset/census-tracts\n"
   ]
  },
  {
   "cell_type": "code",
   "execution_count": 1,
   "metadata": {
    "collapsed": false
   },
   "outputs": [],
   "source": [
    "import json\n",
    "\n",
    "import pandas as pd"
   ]
  },
  {
   "cell_type": "code",
   "execution_count": 2,
   "metadata": {
    "collapsed": false
   },
   "outputs": [
    {
     "data": {
      "text/html": [
       "<div>\n",
       "<table border=\"1\" class=\"dataframe\">\n",
       "  <thead>\n",
       "    <tr style=\"text-align: right;\">\n",
       "      <th></th>\n",
       "      <th>Id</th>\n",
       "      <th>Id2</th>\n",
       "      <th>Geography</th>\n",
       "      <th>Target Geo Id</th>\n",
       "      <th>Target Geo Id2</th>\n",
       "      <th>Geographic area</th>\n",
       "      <th>Geographic area.1</th>\n",
       "      <th>Population</th>\n",
       "      <th>Housing units</th>\n",
       "      <th>Area in square miles - Total area</th>\n",
       "      <th>Area in square miles - Water area</th>\n",
       "      <th>Area in square miles - Land area</th>\n",
       "      <th>Density per square mile of land area - Population</th>\n",
       "      <th>Density per square mile of land area - Housing units</th>\n",
       "    </tr>\n",
       "  </thead>\n",
       "  <tbody>\n",
       "    <tr>\n",
       "      <th>0</th>\n",
       "      <td>0500000US42101</td>\n",
       "      <td>42101</td>\n",
       "      <td>Philadelphia County, Pennsylvania</td>\n",
       "      <td>0500000US42101</td>\n",
       "      <td>42101</td>\n",
       "      <td>Philadelphia County</td>\n",
       "      <td>Philadelphia County</td>\n",
       "      <td>1526006</td>\n",
       "      <td>670171</td>\n",
       "      <td>142.71</td>\n",
       "      <td>8.61</td>\n",
       "      <td>134.10</td>\n",
       "      <td>11379.5</td>\n",
       "      <td>4997.5</td>\n",
       "    </tr>\n",
       "    <tr>\n",
       "      <th>1</th>\n",
       "      <td>0500000US42101</td>\n",
       "      <td>42101</td>\n",
       "      <td>Philadelphia County, Pennsylvania</td>\n",
       "      <td>1400000US42101000100</td>\n",
       "      <td>42101000100</td>\n",
       "      <td>Philadelphia County - Census Tract 1</td>\n",
       "      <td>Census Tract 1</td>\n",
       "      <td>3478</td>\n",
       "      <td>2696</td>\n",
       "      <td>0.27</td>\n",
       "      <td>0.00</td>\n",
       "      <td>0.27</td>\n",
       "      <td>12778.9</td>\n",
       "      <td>9905.7</td>\n",
       "    </tr>\n",
       "    <tr>\n",
       "      <th>2</th>\n",
       "      <td>0500000US42101</td>\n",
       "      <td>42101</td>\n",
       "      <td>Philadelphia County, Pennsylvania</td>\n",
       "      <td>1400000US42101000200</td>\n",
       "      <td>42101000200</td>\n",
       "      <td>Philadelphia County - Census Tract 2</td>\n",
       "      <td>Census Tract 2</td>\n",
       "      <td>2937</td>\n",
       "      <td>1285</td>\n",
       "      <td>0.15</td>\n",
       "      <td>0.00</td>\n",
       "      <td>0.15</td>\n",
       "      <td>19888.2</td>\n",
       "      <td>8701.5</td>\n",
       "    </tr>\n",
       "    <tr>\n",
       "      <th>3</th>\n",
       "      <td>0500000US42101</td>\n",
       "      <td>42101</td>\n",
       "      <td>Philadelphia County, Pennsylvania</td>\n",
       "      <td>1400000US42101000300</td>\n",
       "      <td>42101000300</td>\n",
       "      <td>Philadelphia County - Census Tract 3</td>\n",
       "      <td>Census Tract 3</td>\n",
       "      <td>3169</td>\n",
       "      <td>1968</td>\n",
       "      <td>0.21</td>\n",
       "      <td>0.00</td>\n",
       "      <td>0.21</td>\n",
       "      <td>14968.2</td>\n",
       "      <td>9295.5</td>\n",
       "    </tr>\n",
       "    <tr>\n",
       "      <th>4</th>\n",
       "      <td>0500000US42101</td>\n",
       "      <td>42101</td>\n",
       "      <td>Philadelphia County, Pennsylvania</td>\n",
       "      <td>1400000US42101000401</td>\n",
       "      <td>42101000401</td>\n",
       "      <td>Philadelphia County - Census Tract 4.01</td>\n",
       "      <td>Census Tract 4.01</td>\n",
       "      <td>2125</td>\n",
       "      <td>1790</td>\n",
       "      <td>0.09</td>\n",
       "      <td>0.01</td>\n",
       "      <td>0.08</td>\n",
       "      <td>25626.6</td>\n",
       "      <td>21586.7</td>\n",
       "    </tr>\n",
       "  </tbody>\n",
       "</table>\n",
       "</div>"
      ],
      "text/plain": [
       "               Id    Id2                          Geography  \\\n",
       "0  0500000US42101  42101  Philadelphia County, Pennsylvania   \n",
       "1  0500000US42101  42101  Philadelphia County, Pennsylvania   \n",
       "2  0500000US42101  42101  Philadelphia County, Pennsylvania   \n",
       "3  0500000US42101  42101  Philadelphia County, Pennsylvania   \n",
       "4  0500000US42101  42101  Philadelphia County, Pennsylvania   \n",
       "\n",
       "          Target Geo Id  Target Geo Id2  \\\n",
       "0        0500000US42101           42101   \n",
       "1  1400000US42101000100     42101000100   \n",
       "2  1400000US42101000200     42101000200   \n",
       "3  1400000US42101000300     42101000300   \n",
       "4  1400000US42101000401     42101000401   \n",
       "\n",
       "                           Geographic area    Geographic area.1  Population  \\\n",
       "0                      Philadelphia County  Philadelphia County     1526006   \n",
       "1     Philadelphia County - Census Tract 1       Census Tract 1        3478   \n",
       "2     Philadelphia County - Census Tract 2       Census Tract 2        2937   \n",
       "3     Philadelphia County - Census Tract 3       Census Tract 3        3169   \n",
       "4  Philadelphia County - Census Tract 4.01    Census Tract 4.01        2125   \n",
       "\n",
       "   Housing units  Area in square miles - Total area  \\\n",
       "0         670171                             142.71   \n",
       "1           2696                               0.27   \n",
       "2           1285                               0.15   \n",
       "3           1968                               0.21   \n",
       "4           1790                               0.09   \n",
       "\n",
       "   Area in square miles - Water area  Area in square miles - Land area  \\\n",
       "0                               8.61                            134.10   \n",
       "1                               0.00                              0.27   \n",
       "2                               0.00                              0.15   \n",
       "3                               0.00                              0.21   \n",
       "4                               0.01                              0.08   \n",
       "\n",
       "   Density per square mile of land area - Population  \\\n",
       "0                                            11379.5   \n",
       "1                                            12778.9   \n",
       "2                                            19888.2   \n",
       "3                                            14968.2   \n",
       "4                                            25626.6   \n",
       "\n",
       "   Density per square mile of land area - Housing units  \n",
       "0                                             4997.5     \n",
       "1                                             9905.7     \n",
       "2                                             8701.5     \n",
       "3                                             9295.5     \n",
       "4                                            21586.7     "
      ]
     },
     "execution_count": 2,
     "metadata": {},
     "output_type": "execute_result"
    }
   ],
   "source": [
    "census_data = pd.read_csv('census_data/DEC_10_SF1_GCTPH1.CY07_with_ann.csv', skiprows=[0])\n",
    "census_data.head()"
   ]
  },
  {
   "cell_type": "code",
   "execution_count": 3,
   "metadata": {
    "collapsed": false
   },
   "outputs": [
    {
     "name": "stdout",
     "output_type": "stream",
     "text": [
      "1526006\n"
     ]
    },
    {
     "data": {
      "text/html": [
       "<div>\n",
       "<table border=\"1\" class=\"dataframe\">\n",
       "  <thead>\n",
       "    <tr style=\"text-align: right;\">\n",
       "      <th></th>\n",
       "      <th>Target Geo Id2</th>\n",
       "      <th>Population</th>\n",
       "    </tr>\n",
       "  </thead>\n",
       "  <tbody>\n",
       "    <tr>\n",
       "      <th>1</th>\n",
       "      <td>42101000100</td>\n",
       "      <td>3478</td>\n",
       "    </tr>\n",
       "    <tr>\n",
       "      <th>2</th>\n",
       "      <td>42101000200</td>\n",
       "      <td>2937</td>\n",
       "    </tr>\n",
       "    <tr>\n",
       "      <th>3</th>\n",
       "      <td>42101000300</td>\n",
       "      <td>3169</td>\n",
       "    </tr>\n",
       "    <tr>\n",
       "      <th>4</th>\n",
       "      <td>42101000401</td>\n",
       "      <td>2125</td>\n",
       "    </tr>\n",
       "    <tr>\n",
       "      <th>5</th>\n",
       "      <td>42101000402</td>\n",
       "      <td>3142</td>\n",
       "    </tr>\n",
       "  </tbody>\n",
       "</table>\n",
       "</div>"
      ],
      "text/plain": [
       "   Target Geo Id2  Population\n",
       "1     42101000100        3478\n",
       "2     42101000200        2937\n",
       "3     42101000300        3169\n",
       "4     42101000401        2125\n",
       "5     42101000402        3142"
      ]
     },
     "execution_count": 3,
     "metadata": {},
     "output_type": "execute_result"
    }
   ],
   "source": [
    "# Skip first row of total population\n",
    "total_population = census_data.Population.iloc[0]\n",
    "print total_population\n",
    "census_data = census_data[['Target Geo Id2', 'Population']].iloc[1:]\n",
    "census_data.head()"
   ]
  },
  {
   "cell_type": "code",
   "execution_count": 4,
   "metadata": {
    "collapsed": false
   },
   "outputs": [
    {
     "data": {
      "text/html": [
       "<div>\n",
       "<table border=\"1\" class=\"dataframe\">\n",
       "  <thead>\n",
       "    <tr style=\"text-align: right;\">\n",
       "      <th></th>\n",
       "      <th>Target Geo Id2</th>\n",
       "      <th>Population</th>\n",
       "      <th>Cumulative Population</th>\n",
       "    </tr>\n",
       "  </thead>\n",
       "  <tbody>\n",
       "    <tr>\n",
       "      <th>182</th>\n",
       "      <td>42101018800</td>\n",
       "      <td>8322</td>\n",
       "      <td>8322</td>\n",
       "    </tr>\n",
       "    <tr>\n",
       "      <th>373</th>\n",
       "      <td>42101039000</td>\n",
       "      <td>8154</td>\n",
       "      <td>16476</td>\n",
       "    </tr>\n",
       "    <tr>\n",
       "      <th>185</th>\n",
       "      <td>42101019200</td>\n",
       "      <td>7972</td>\n",
       "      <td>24448</td>\n",
       "    </tr>\n",
       "    <tr>\n",
       "      <th>184</th>\n",
       "      <td>42101019100</td>\n",
       "      <td>7937</td>\n",
       "      <td>32385</td>\n",
       "    </tr>\n",
       "    <tr>\n",
       "      <th>52</th>\n",
       "      <td>42101004102</td>\n",
       "      <td>7848</td>\n",
       "      <td>40233</td>\n",
       "    </tr>\n",
       "  </tbody>\n",
       "</table>\n",
       "</div>"
      ],
      "text/plain": [
       "     Target Geo Id2  Population  Cumulative Population\n",
       "182     42101018800        8322                   8322\n",
       "373     42101039000        8154                  16476\n",
       "185     42101019200        7972                  24448\n",
       "184     42101019100        7937                  32385\n",
       "52      42101004102        7848                  40233"
      ]
     },
     "execution_count": 4,
     "metadata": {},
     "output_type": "execute_result"
    }
   ],
   "source": [
    "# Sort by population descending and calculate cumulative sum\n",
    "sorted_population = census_data.sort('Population', ascending=False)\n",
    "sorted_population['Cumulative Population'] = sorted_population.Population.cumsum()\n",
    "sorted_population.head()"
   ]
  },
  {
   "cell_type": "code",
   "execution_count": 5,
   "metadata": {
    "collapsed": false
   },
   "outputs": [
    {
     "data": {
      "text/plain": [
       "array([42101018800, 42101039000, 42101019200, 42101019100, 42101004102,\n",
       "       42101989100, 42101034400, 42101033000, 42101019000, 42101030000,\n",
       "       42101006700, 42101030200, 42101035500, 42101028600, 42101025200,\n",
       "       42101030600, 42101017500, 42101016000, 42101019700, 42101008802,\n",
       "       42101036900, 42101031300, 42101032600, 42101033600, 42101027402,\n",
       "       42101008200, 42101031000, 42101036303, 42101003600, 42101017800,\n",
       "       42101026600, 42101031401, 42101003701, 42101032000, 42101026700,\n",
       "       42101006000, 42101034701, 42101028902, 42101017900, 42101008500,\n",
       "       42101004101, 42101031501, 42101019800, 42101028300, 42101003300,\n",
       "       42101029000, 42101036202, 42101015200, 42101011400, 42101031700,\n",
       "       42101027300, 42101003901, 42101031600, 42101033800, 42101035800,\n",
       "       42101030100, 42101020700, 42101030502, 42101021700, 42101032500,\n",
       "       42101015800, 42101005500, 42101037700, 42101011800, 42101031402,\n",
       "       42101016100, 42101034100, 42101009000, 42101017601, 42101036501,\n",
       "       42101034900, 42101002802, 42101016902, 42101003902, 42101011200,\n",
       "       42101026302, 42101009802, 42101010100, 42101018002, 42101035601,\n",
       "       42101034802, 42101037900, 42101035900, 42101035301, 42101034502,\n",
       "       42101026400, 42101030501, 42101012500, 42101011900, 42101020200,\n",
       "       42101033702, 42101037300, 42101001202, 42101002400, 42101036203,\n",
       "       42101033701, 42101004201, 42101017702, 42101008102, 42101004002,\n",
       "       42101031900, 42101015300, 42101001300, 42101019501, 42101004202,\n",
       "       42101007102, 42101021000, 42101033101, 42101028200, 42101031101,\n",
       "       42101003200, 42101030800, 42101013700, 42101027700, 42101007200,\n",
       "       42101025900, 42101035701, 42101036201, 42101033400, 42101029800,\n",
       "       42101029900, 42101029100, 42101031200, 42101003001, 42101026800,\n",
       "       42101023700, 42101016400, 42101007900, 42101006200, 42101027500])"
      ]
     },
     "execution_count": 5,
     "metadata": {},
     "output_type": "execute_result"
    }
   ],
   "source": [
    "# Grab census geo ids where the cumulative population is less than half city population\n",
    "below_50 = (\n",
    "    sorted_population[sorted_population['Cumulative Population'] < (total_population /2.)]\n",
    "    )[\"Target Geo Id2\"].values\n",
    "below_50"
   ]
  },
  {
   "cell_type": "code",
   "execution_count": 6,
   "metadata": {
    "collapsed": true
   },
   "outputs": [],
   "source": [
    "# Load census data from OpenData\n",
    "with open(\"/Users/pjob/Downloads/Census_Tracts_2010.geojson\") as gj:\n",
    "    geojson = json.load(gj)"
   ]
  },
  {
   "cell_type": "code",
   "execution_count": 7,
   "metadata": {
    "collapsed": false
   },
   "outputs": [],
   "source": [
    "# Grab feature from geojson and match census tract geo id from census data\n",
    "features = geojson['features']\n",
    "for f_num, feature in enumerate(geojson['features']):\n",
    "    if int(feature['properties']['GEOID10']) in below_50:\n",
    "        feature['properties']['fill'] = \"#ef2704\"\n",
    "        feature['properties']['fill-opacity'] = 0.8\n",
    "    geojson['features'][f_num] = feature"
   ]
  },
  {
   "cell_type": "code",
   "execution_count": 8,
   "metadata": {
    "collapsed": false
   },
   "outputs": [],
   "source": [
    "# Save geojson\n",
    "with open('census_data/philly50.geojson', 'w') as ojson:\n",
    "    json.dump(geojson, ojson)"
   ]
  },
  {
   "cell_type": "code",
   "execution_count": null,
   "metadata": {
    "collapsed": true
   },
   "outputs": [],
   "source": []
  }
 ],
 "metadata": {
  "kernelspec": {
   "display_name": "Python 2",
   "language": "python",
   "name": "python2"
  },
  "language_info": {
   "codemirror_mode": {
    "name": "ipython",
    "version": 2
   },
   "file_extension": ".py",
   "mimetype": "text/x-python",
   "name": "python",
   "nbconvert_exporter": "python",
   "pygments_lexer": "ipython2",
   "version": "2.7.10"
  }
 },
 "nbformat": 4,
 "nbformat_minor": 0
}
